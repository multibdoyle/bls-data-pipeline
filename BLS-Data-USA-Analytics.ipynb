{
 "cells": [
  {
   "cell_type": "code",
   "execution_count": 34,
   "id": "04b602a8",
   "metadata": {},
   "outputs": [],
   "source": [
    "import requests\n",
    "from bs4 import BeautifulSoup\n",
    "import boto3\n",
    "import os\n",
    "import pandas as pd\n",
    "from io import BytesIO, StringIO\n",
    "import json"
   ]
  },
  {
   "cell_type": "code",
   "execution_count": 35,
   "id": "029be70e",
   "metadata": {},
   "outputs": [
    {
     "name": "stdout",
     "output_type": "stream",
     "text": [
      "Requirement already satisfied: itables in c:\\users\\bredoyle\\anaconda3\\lib\\site-packages (1.7.1)\n",
      "Requirement already satisfied: IPython in c:\\users\\bredoyle\\anaconda3\\lib\\site-packages (from itables) (7.22.0)\n",
      "Requirement already satisfied: pandas in c:\\users\\bredoyle\\anaconda3\\lib\\site-packages (from itables) (1.2.4)\n",
      "Requirement already satisfied: numpy in c:\\users\\bredoyle\\anaconda3\\lib\\site-packages (from itables) (1.20.1)\n",
      "Requirement already satisfied: pickleshare in c:\\users\\bredoyle\\anaconda3\\lib\\site-packages (from IPython->itables) (0.7.5)\n",
      "Requirement already satisfied: prompt-toolkit!=3.0.0,!=3.0.1,<3.1.0,>=2.0.0 in c:\\users\\bredoyle\\anaconda3\\lib\\site-packages (from IPython->itables) (3.0.17)\n",
      "Requirement already satisfied: backcall in c:\\users\\bredoyle\\anaconda3\\lib\\site-packages (from IPython->itables) (0.2.0)\n",
      "Requirement already satisfied: colorama in c:\\users\\bredoyle\\anaconda3\\lib\\site-packages (from IPython->itables) (0.4.4)\n",
      "Requirement already satisfied: setuptools>=18.5 in c:\\users\\bredoyle\\anaconda3\\lib\\site-packages (from IPython->itables) (52.0.0.post20210125)\n",
      "Requirement already satisfied: decorator in c:\\users\\bredoyle\\anaconda3\\lib\\site-packages (from IPython->itables) (5.0.6)\n",
      "Requirement already satisfied: pygments in c:\\users\\bredoyle\\anaconda3\\lib\\site-packages (from IPython->itables) (2.8.1)\n",
      "Requirement already satisfied: jedi>=0.16 in c:\\users\\bredoyle\\anaconda3\\lib\\site-packages (from IPython->itables) (0.17.2)\n",
      "Requirement already satisfied: traitlets>=4.2 in c:\\users\\bredoyle\\anaconda3\\lib\\site-packages (from IPython->itables) (5.0.5)\n",
      "Requirement already satisfied: parso<0.8.0,>=0.7.0 in c:\\users\\bredoyle\\anaconda3\\lib\\site-packages (from jedi>=0.16->IPython->itables) (0.7.0)\n",
      "Requirement already satisfied: wcwidth in c:\\users\\bredoyle\\anaconda3\\lib\\site-packages (from prompt-toolkit!=3.0.0,!=3.0.1,<3.1.0,>=2.0.0->IPython->itables) (0.2.5)\n",
      "Requirement already satisfied: ipython-genutils in c:\\users\\bredoyle\\anaconda3\\lib\\site-packages (from traitlets>=4.2->IPython->itables) (0.2.0)\n",
      "Requirement already satisfied: pytz>=2017.3 in c:\\users\\bredoyle\\anaconda3\\lib\\site-packages (from pandas->itables) (2021.1)\n",
      "Requirement already satisfied: python-dateutil>=2.7.3 in c:\\users\\bredoyle\\anaconda3\\lib\\site-packages (from pandas->itables) (2.8.1)\n",
      "Requirement already satisfied: six>=1.5 in c:\\users\\bredoyle\\anaconda3\\lib\\site-packages (from python-dateutil>=2.7.3->pandas->itables) (1.15.0)\n"
     ]
    }
   ],
   "source": [
    "!pip install itables"
   ]
  },
  {
   "cell_type": "code",
   "execution_count": 36,
   "id": "26eb259c",
   "metadata": {},
   "outputs": [],
   "source": [
    "from itables import init_notebook_mode, show"
   ]
  },
  {
   "cell_type": "markdown",
   "id": "e44acf65",
   "metadata": {},
   "source": [
    "\n",
    "### Setting up credentials - might need this in ~/.aws/credentials file\n",
    "#### And further maybe create an IAM role, not just storing these access key as is. "
   ]
  },
  {
   "cell_type": "code",
   "execution_count": 39,
   "id": "b54e8433",
   "metadata": {},
   "outputs": [],
   "source": [
    "    AWS_ACCESS_KEY_ID=<YOUR_ACCESS_KEY_ID>\n",
    "    AWS_SECRET_ACCESS_KEY=<YOUR_SECRET_ACCESS_KEY>\n",
    "source_url = 'https://download.bls.gov/pub/time.series/pr/'\n",
    "bucket_name = 'bls-data-sharing'"
   ]
  },
  {
   "cell_type": "code",
   "execution_count": 40,
   "id": "ae053a0f",
   "metadata": {},
   "outputs": [],
   "source": [
    "s3 = boto3.client(\n",
    "        's3',\n",
    "        aws_access_key_id=AWS_ACCESS_KEY_ID,\n",
    "        aws_secret_access_key=AWS_SECRET_ACCESS_KEY\n",
    "        )"
   ]
  },
  {
   "cell_type": "code",
   "execution_count": 41,
   "id": "93a54fd3",
   "metadata": {
    "scrolled": true
   },
   "outputs": [
    {
     "data": {
      "text/html": [
       "<div class=\"itables\">\n",
       "<style>.itables table td {\n",
       "    text-overflow: ellipsis;\n",
       "    overflow: hidden;\n",
       "}\n",
       "\n",
       ".itables table th {\n",
       "    text-overflow: ellipsis;\n",
       "    overflow: hidden;\n",
       "}\n",
       "\n",
       ".itables thead input {\n",
       "    width: 100%;\n",
       "    padding: 3px;\n",
       "    box-sizing: border-box;\n",
       "}\n",
       "\n",
       ".itables tfoot input {\n",
       "    width: 100%;\n",
       "    padding: 3px;\n",
       "    box-sizing: border-box;\n",
       "}\n",
       "\n",
       ".itables { font-size: medium; }\n",
       "\n",
       ".itables select, .itables input {\n",
       "    color: inherit;\n",
       "}\n",
       "</style>\n",
       "<table id=\"itables_adf71794_b752_49ad_807d_0d2763747757\" class=\"display nowrap\" data-quarto-disable-processing=\"true\" style=\"table-layout:auto;width:auto;margin:auto;caption-side:bottom\">\n",
       "<thead>\n",
       "    <tr style=\"text-align: right;\">\n",
       "      \n",
       "      <th>ID Nation</th>\n",
       "      <th>Nation</th>\n",
       "      <th>ID Year</th>\n",
       "      <th>Year</th>\n",
       "      <th>Population</th>\n",
       "      <th>Slug Nation</th>\n",
       "    </tr>\n",
       "  </thead><tbody><tr><td>Loading... (need <a href=https://mwouts.github.io/itables/troubleshooting.html>help</a>?)</td></tr></tbody>\n",
       "\n",
       "</table>\n",
       "<link rel=\"stylesheet\" type=\"text/css\" href=\"https://cdn.datatables.net/1.13.1/css/jquery.dataTables.min.css\">\n",
       "<script type=\"module\">\n",
       "    // Import jquery and DataTable\n",
       "    import 'https://code.jquery.com/jquery-3.6.0.min.js';\n",
       "    import dt from 'https://cdn.datatables.net/1.12.1/js/jquery.dataTables.mjs';\n",
       "    dt($);\n",
       "\n",
       "    $(document).ready(function () {\n",
       "        document.querySelectorAll(\"#itables_adf71794_b752_49ad_807d_0d2763747757:not(.dataTable)\").forEach(table => {\n",
       "            // Define the table data\n",
       "            const data = [[\"01000US\", \"United States\", 2021, \"2021\", 329725481, \"united-states\"], [\"01000US\", \"United States\", 2020, \"2020\", 326569308, \"united-states\"], [\"01000US\", \"United States\", 2019, \"2019\", 324697795, \"united-states\"], [\"01000US\", \"United States\", 2018, \"2018\", 322903030, \"united-states\"], [\"01000US\", \"United States\", 2017, \"2017\", 321004407, \"united-states\"], [\"01000US\", \"United States\", 2016, \"2016\", 318558162, \"united-states\"], [\"01000US\", \"United States\", 2015, \"2015\", 316515021, \"united-states\"], [\"01000US\", \"United States\", 2014, \"2014\", 314107084, \"united-states\"], [\"01000US\", \"United States\", 2013, \"2013\", 311536594, \"united-states\"]];\n",
       "\n",
       "            // Define the dt_args\n",
       "            let dt_args = {\"order\": [], \"dom\": \"t\"};\n",
       "            dt_args[\"data\"] = data;\n",
       "\n",
       "            \n",
       "            new $.fn.dataTable(table, dt_args);\n",
       "        });\n",
       "    });\n",
       "</script>\n",
       "</div>\n"
      ],
      "text/plain": [
       "<IPython.core.display.HTML object>"
      ]
     },
     "metadata": {},
     "output_type": "display_data"
    }
   ],
   "source": [
    "\n",
    "\n",
    "def data_load_from_s3(bucket_name, object_name, file_type='csv'):\n",
    "    obj = s3.get_object(Bucket=bucket_name, Key=object_name)\n",
    "    \n",
    "    if file_type == 'csv':\n",
    "        df = pd.read_csv(BytesIO(obj['Body'].read()))\n",
    "    elif file_type == 'json':\n",
    "        obj = s3.get_object(Bucket='bls-data-sharing', Key='datausa_population.json')\n",
    "        json_content = obj['Body'].read()\n",
    "        json_data = json.loads(json_content)\n",
    "            # Further processing may be needed here to flatten the JSON structure\n",
    "        df = pd.json_normalize(json_data, record_path = ['data'])\n",
    "    else:\n",
    "        raise ValueError(\"Unsupported file type: Only 'csv' and 'json' are supported.\")\n",
    "    \n",
    "    return df\n",
    "\n",
    "current = data_load_from_s3('bls-data-sharing', 'pr.data.0.Current.csv','csv')\n",
    "population = data_load_from_s3('bls-data-sharing', 'datausa_population.json', 'json')\n",
    "show(population)"
   ]
  },
  {
   "cell_type": "markdown",
   "id": "72d886dd",
   "metadata": {},
   "source": [
    "\n",
    "#### Using the dataframe from the population data API (Part 2), generate the mean and the standard deviation of the annual US population across the years [2013, 2018] inclusive."
   ]
  },
  {
   "cell_type": "code",
   "execution_count": 42,
   "id": "9ad6d1df",
   "metadata": {
    "scrolled": true
   },
   "outputs": [
    {
     "data": {
      "text/html": [
       "<div class=\"itables\">\n",
       "<style>.itables table td {\n",
       "    text-overflow: ellipsis;\n",
       "    overflow: hidden;\n",
       "}\n",
       "\n",
       ".itables table th {\n",
       "    text-overflow: ellipsis;\n",
       "    overflow: hidden;\n",
       "}\n",
       "\n",
       ".itables thead input {\n",
       "    width: 100%;\n",
       "    padding: 3px;\n",
       "    box-sizing: border-box;\n",
       "}\n",
       "\n",
       ".itables tfoot input {\n",
       "    width: 100%;\n",
       "    padding: 3px;\n",
       "    box-sizing: border-box;\n",
       "}\n",
       "\n",
       ".itables { font-size: medium; }\n",
       "\n",
       ".itables select, .itables input {\n",
       "    color: inherit;\n",
       "}\n",
       "</style>\n",
       "<table id=\"itables_6ab181c0_1354_4ea1_9acf_780a2e9729a5\" class=\"display nowrap\" data-quarto-disable-processing=\"true\" style=\"table-layout:auto;width:auto;margin:auto;caption-side:bottom\">\n",
       "<thead>\n",
       "    <tr style=\"text-align: right;\">\n",
       "      \n",
       "      <th>Slug Nation</th>\n",
       "      <th>Mean Population</th>\n",
       "      <th>Std Population</th>\n",
       "    </tr>\n",
       "  </thead><tbody><tr><td>Loading... (need <a href=https://mwouts.github.io/itables/troubleshooting.html>help</a>?)</td></tr></tbody>\n",
       "\n",
       "</table>\n",
       "<link rel=\"stylesheet\" type=\"text/css\" href=\"https://cdn.datatables.net/1.13.1/css/jquery.dataTables.min.css\">\n",
       "<script type=\"module\">\n",
       "    // Import jquery and DataTable\n",
       "    import 'https://code.jquery.com/jquery-3.6.0.min.js';\n",
       "    import dt from 'https://cdn.datatables.net/1.12.1/js/jquery.dataTables.mjs';\n",
       "    dt($);\n",
       "\n",
       "    $(document).ready(function () {\n",
       "        document.querySelectorAll(\"#itables_6ab181c0_1354_4ea1_9acf_780a2e9729a5:not(.dataTable)\").forEach(table => {\n",
       "            // Define the table data\n",
       "            const data = [[\"united-states\", 317437383, 4257090.0]];\n",
       "\n",
       "            // Define the dt_args\n",
       "            let dt_args = {\"order\": [], \"dom\": \"t\"};\n",
       "            dt_args[\"data\"] = data;\n",
       "\n",
       "            \n",
       "            new $.fn.dataTable(table, dt_args);\n",
       "        });\n",
       "    });\n",
       "</script>\n",
       "</div>\n"
      ],
      "text/plain": [
       "<IPython.core.display.HTML object>"
      ]
     },
     "metadata": {},
     "output_type": "display_data"
    }
   ],
   "source": [
    "min_year = 2013\n",
    "max_year = 2018\n",
    "incl_pop = population[(population['ID Year']>=min_year) & (population['ID Year']<=max_year)]\n",
    "incl_pop_group = incl_pop.groupby(\"Slug Nation\")['Population'].agg(['mean', 'std']).rename(columns={'mean': 'Mean Population', 'std': 'Std Population'})\n",
    "\n",
    "incl_pop_group.reset_index(level=0,inplace=True)\n",
    "show(incl_pop_group)"
   ]
  },
  {
   "cell_type": "markdown",
   "id": "52f2cf3d",
   "metadata": {},
   "source": [
    "\n",
    "#### Using the dataframe from the time-series (Part 1), For every series_id, find the best year: the year with the max/largest sum of \"value\" for all quarters in that year. Generate a report with each series id, the best year for that series, and the summed value for that year. For example, if the table had the following values:"
   ]
  },
  {
   "cell_type": "code",
   "execution_count": 43,
   "id": "f120a6cf",
   "metadata": {},
   "outputs": [
    {
     "data": {
      "text/plain": [
       "Index(['series_id', 'year', 'period', 'value', 'footnote_codes'], dtype='object')"
      ]
     },
     "execution_count": 43,
     "metadata": {},
     "output_type": "execute_result"
    }
   ],
   "source": [
    "#### Cleaning columns\n",
    "current.columns = [col.strip() for col in current]\n",
    "current.columns"
   ]
  },
  {
   "cell_type": "code",
   "execution_count": 33,
   "id": "8b4ad863",
   "metadata": {},
   "outputs": [
    {
     "data": {
      "text/html": [
       "<div class=\"itables\">\n",
       "<style>.itables table td {\n",
       "    text-overflow: ellipsis;\n",
       "    overflow: hidden;\n",
       "}\n",
       "\n",
       ".itables table th {\n",
       "    text-overflow: ellipsis;\n",
       "    overflow: hidden;\n",
       "}\n",
       "\n",
       ".itables thead input {\n",
       "    width: 100%;\n",
       "    padding: 3px;\n",
       "    box-sizing: border-box;\n",
       "}\n",
       "\n",
       ".itables tfoot input {\n",
       "    width: 100%;\n",
       "    padding: 3px;\n",
       "    box-sizing: border-box;\n",
       "}\n",
       "\n",
       ".itables { font-size: medium; }\n",
       "\n",
       ".itables select, .itables input {\n",
       "    color: inherit;\n",
       "}\n",
       "</style>\n",
       "<table id=\"itables_0f4bfc6a_b626_4227_bcb4_fccba63d58c5\" class=\"display nowrap\" data-quarto-disable-processing=\"true\" style=\"table-layout:auto;width:auto;margin:auto;caption-side:bottom\">\n",
       "<thead>\n",
       "    <tr style=\"text-align: right;\">\n",
       "      <th></th>\n",
       "      <th>series_id</th>\n",
       "      <th>year</th>\n",
       "      <th>max_yearly_sum</th>\n",
       "    </tr>\n",
       "  </thead><tbody><tr><td>Loading... (need <a href=https://mwouts.github.io/itables/troubleshooting.html>help</a>?)</td></tr></tbody>\n",
       "\n",
       "</table>\n",
       "<link rel=\"stylesheet\" type=\"text/css\" href=\"https://cdn.datatables.net/1.13.1/css/jquery.dataTables.min.css\">\n",
       "<script type=\"module\">\n",
       "    // Import jquery and DataTable\n",
       "    import 'https://code.jquery.com/jquery-3.6.0.min.js';\n",
       "    import dt from 'https://cdn.datatables.net/1.12.1/js/jquery.dataTables.mjs';\n",
       "    dt($);\n",
       "\n",
       "    $(document).ready(function () {\n",
       "        document.querySelectorAll(\"#itables_0f4bfc6a_b626_4227_bcb4_fccba63d58c5:not(.dataTable)\").forEach(table => {\n",
       "            // Define the table data\n",
       "            const data = [[0, \"PRS30006011\", 2022, 20.5], [1, \"PRS30006012\", 2022, 17.1], [2, \"PRS30006013\", 1998, 704.125], [3, \"PRS30006021\", 2010, 17.6], [4, \"PRS30006022\", 2010, 12.5], [5, \"PRS30006023\", 2014, 503.171], [6, \"PRS30006031\", 2022, 20.4], [7, \"PRS30006032\", 2021, 17.1], [8, \"PRS30006033\", 1998, 700.712], [9, \"PRS30006061\", 2022, 38.9], [10, \"PRS30006062\", 2022, 31.7], [11, \"PRS30006063\", 2023, 633.254], [12, \"PRS30006081\", 2021, 23.4], [13, \"PRS30006082\", 2021, 23.4], [14, \"PRS30006083\", 2021, 112.456], [15, \"PRS30006091\", 2002, 43.3], [16, \"PRS30006092\", 2002, 44.4], [17, \"PRS30006093\", 2011, 520.088], [18, \"PRS30006101\", 2020, 34.9], [19, \"PRS30006102\", 2020, 37.9], [20, \"PRS30006103\", 2023, 625.056], [21, \"PRS30006111\", 2020, 31.5], [22, \"PRS30006112\", 2008, 42.4], [23, \"PRS30006113\", 2023, 635.04], [24, \"PRS30006131\", 2021, 17.7], [25, \"PRS30006132\", 2021, 17.7], [26, \"PRS30006133\", 2021, 115.283], [27, \"PRS30006151\", 2020, 28.0], [28, \"PRS30006152\", 2020, 33.0], [29, \"PRS30006153\", 2020, 531.837], [30, \"PRS30006161\", 2010, 50.6], [31, \"PRS30006162\", 2002, 48.0], [32, \"PRS30006163\", 2013, 520.484], [33, \"PRS30006171\", 2015, 11.3], [34, \"PRS30006172\", 2015, 11.3], [35, \"PRS30006173\", 2001, 121.64], [36, \"PRS30006211\", 2010, 35.0], [37, \"PRS30006212\", 1997, 38.7], [38, \"PRS30006213\", 2007, 529.385], [39, \"PRS30006221\", 2021, 12.5], [40, \"PRS30006222\", 2021, 12.5], [41, \"PRS30006223\", 2021, 115.037], [42, \"PRS30006231\", 2021, 18.0], [43, \"PRS30006232\", 2021, 18.0], [44, \"PRS30006233\", 2021, 112.216], [45, \"PRS31006011\", 2022, 20.3], [46, \"PRS31006012\", 2022, 20.2], [47, \"PRS31006013\", 1998, 704.991], [48, \"PRS31006021\", 2010, 19.5], [49, \"PRS31006022\", 2010, 14.3], [50, \"PRS31006023\", 1997, 503.872], [51, \"PRS31006031\", 2022, 23.7], [52, \"PRS31006032\", 2011, 21.7], [53, \"PRS31006033\", 1998, 702.878], [54, \"PRS31006061\", 2022, 36.6], [55, \"PRS31006062\", 2023, 37.8], [56, \"PRS31006063\", 2023, 635.159], [57, \"PRS31006081\", 2010, 16.7], [58, \"PRS31006082\", 2010, 16.7], [59, \"PRS31006083\", 2021, 107.447], [60, \"PRS31006091\", 2010, 42.7], [61, \"PRS31006092\", 2002, 49.8], [62, \"PRS31006093\", 2014, 510.264], [63, \"PRS31006101\", 2020, 35.7], [64, \"PRS31006102\", 2020, 42.0], [65, \"PRS31006103\", 2023, 623.842], [66, \"PRS31006111\", 2009, 37.4], [67, \"PRS31006112\", 2008, 58.1], [68, \"PRS31006113\", 2023, 647.358], [69, \"PRS31006131\", 2021, 11.7], [70, \"PRS31006132\", 2021, 11.7], [71, \"PRS31006133\", 2021, 113.652], [72, \"PRS31006151\", 2020, 28.8], [73, \"PRS31006152\", 2020, 37.4], [74, \"PRS31006153\", 2020, 531.372], [75, \"PRS31006161\", 2010, 64.0], [76, \"PRS31006162\", 2002, 54.5], [77, \"PRS31006163\", 2014, 513.791], [78, \"PRS31006171\", 2009, 8.9], [79, \"PRS31006172\", 2009, 8.9], [80, \"PRS31006173\", 2001, 111.368], [81, \"PRS31006211\", 1997, 47.6], [82, \"PRS31006212\", 1997, 55.4], [83, \"PRS31006213\", 2007, 527.265], [84, \"PRS31006221\", 2021, 8.3], [85, \"PRS31006222\", 2021, 8.3], [86, \"PRS31006223\", 2021, 114.936], [87, \"PRS31006231\", 2021, 12.4], [88, \"PRS31006232\", 2021, 12.4], [89, \"PRS31006233\", 2021, 108.662], [90, \"PRS32006011\", 2022, 21.2], [91, \"PRS32006012\", 2021, 14.1], [92, \"PRS32006013\", 1995, 726.121], [93, \"PRS32006021\", 2010, 14.6], [94, \"PRS32006022\", 2010, 9.4], [95, \"PRS32006023\", 2012, 503.391], [96, \"PRS32006031\", 2021, 18.6], [97, \"PRS32006032\", 2021, 18.2], [98, \"PRS32006033\", 1995, 710.429], [99, \"PRS32006061\", 2022, 43.2], [100, \"PRS32006062\", 2021, 30.6], [101, \"PRS32006063\", 2023, 629.564], [102, \"PRS32006081\", 2021, 26.2], [103, \"PRS32006082\", 2021, 26.2], [104, \"PRS32006083\", 2013, 116.086], [105, \"PRS32006091\", 2002, 35.2], [106, \"PRS32006092\", 2004, 31.3], [107, \"PRS32006093\", 2013, 517.009], [108, \"PRS32006101\", 2020, 35.6], [109, \"PRS32006102\", 2003, 34.5], [110, \"PRS32006103\", 2023, 626.646], [111, \"PRS32006111\", 2020, 34.3], [112, \"PRS32006112\", 2008, 34.7], [113, \"PRS32006113\", 2023, 628.517], [114, \"PRS32006131\", 2021, 20.8], [115, \"PRS32006132\", 2021, 20.8], [116, \"PRS32006133\", 2012, 117.842], [117, \"PRS32006151\", 2020, 28.6], [118, \"PRS32006152\", 2020, 28.8], [119, \"PRS32006153\", 2020, 534.102], [120, \"PRS32006161\", 2002, 36.1], [121, \"PRS32006162\", 2002, 31.5], [122, \"PRS32006163\", 2013, 520.066], [123, \"PRS32006171\", 2015, 15.7], [124, \"PRS32006172\", 2015, 15.7], [125, \"PRS32006173\", 1998, 135.896], [126, \"PRS32006211\", 2021, 22.9], [127, \"PRS32006212\", 2021, 24.1], [128, \"PRS32006213\", 2007, 520.93], [129, \"PRS32006221\", 2021, 16.8], [130, \"PRS32006222\", 2021, 16.8], [131, \"PRS32006223\", 2021, 115.028], [132, \"PRS32006231\", 2021, 22.1], [133, \"PRS32006232\", 2021, 22.1], [134, \"PRS32006233\", 2021, 114.868], [135, \"PRS84006011\", 2022, 22.5], [136, \"PRS84006012\", 2021, 26.1], [137, \"PRS84006013\", 2023, 534.199], [138, \"PRS84006021\", 2021, 6.9], [139, \"PRS84006022\", 2010, 7.1], [140, \"PRS84006023\", 1997, 518.454], [141, \"PRS84006031\", 2021, 29.4], [142, \"PRS84006032\", 2021, 28.4], [143, \"PRS84006033\", 2023, 524.083], [144, \"PRS84006041\", 2021, 37.0], [145, \"PRS84006042\", 2021, 33.2], [146, \"PRS84006043\", 2023, 580.105], [147, \"PRS84006051\", 2021, 64.4], [148, \"PRS84006052\", 2021, 68.9], [149, \"PRS84006053\", 2023, 704.408], [150, \"PRS84006061\", 2021, 53.6], [151, \"PRS84006062\", 2021, 53.5], [152, \"PRS84006063\", 2023, 694.793], [153, \"PRS84006081\", 2021, 80.1], [154, \"PRS84006082\", 2021, 91.5], [155, \"PRS84006083\", 2023, 716.793], [156, \"PRS84006091\", 2020, 27.4], [157, \"PRS84006092\", 2009, 30.6], [158, \"PRS84006093\", 2021, 556.352], [159, \"PRS84006101\", 2020, 42.3], [160, \"PRS84006102\", 2020, 49.0], [161, \"PRS84006103\", 2023, 662.86], [162, \"PRS84006111\", 2022, 29.3], [163, \"PRS84006112\", 2022, 24.2], [164, \"PRS84006113\", 2023, 598.84], [165, \"PRS84006131\", 2022, 52.0], [166, \"PRS84006132\", 2021, 54.5], [167, \"PRS84006133\", 2023, 617.771], [168, \"PRS84006141\", 2022, 39.1], [169, \"PRS84006142\", 2022, 35.4], [170, \"PRS84006143\", 2023, 607.113], [171, \"PRS84006151\", 2020, 35.3], [172, \"PRS84006152\", 2020, 43.7], [173, \"PRS84006153\", 2020, 553.304], [174, \"PRS84006161\", 2010, 21.8], [175, \"PRS84006162\", 2020, 25.6], [176, \"PRS84006163\", 2021, 552.296], [177, \"PRS84006171\", 2020, 12.6], [178, \"PRS84006172\", 2020, 18.2], [179, \"PRS84006173\", 2001, 559.688], [180, \"PRS85006011\", 2022, 23.0], [181, \"PRS85006012\", 2021, 26.8], [182, \"PRS85006013\", 2023, 535.301], [183, \"PRS85006021\", 2021, 7.1], [184, \"PRS85006022\", 2010, 7.3], [185, \"PRS85006023\", 1997, 519.037], [186, \"PRS85006031\", 2021, 30.2], [187, \"PRS85006032\", 2021, 29.7], [188, \"PRS85006033\", 2023, 525.422], [189, \"PRS85006041\", 2021, 36.9], [190, \"PRS85006042\", 2021, 33.3], [191, \"PRS85006043\", 2023, 580.966], [192, \"PRS85006051\", 2021, 62.9], [193, \"PRS85006052\", 2021, 68.0], [194, \"PRS85006053\", 2023, 704.115], [195, \"PRS85006061\", 2021, 53.7], [196, \"PRS85006062\", 2021, 53.7], [197, \"PRS85006063\", 2023, 695.517], [198, \"PRS85006081\", 2021, 76.1], [199, \"PRS85006082\", 2021, 89.1], [200, \"PRS85006083\", 2023, 715.284], [201, \"PRS85006091\", 2020, 28.1], [202, \"PRS85006092\", 2009, 30.2], [203, \"PRS85006093\", 2021, 556.224], [204, \"PRS85006101\", 2020, 42.9], [205, \"PRS85006102\", 2020, 49.8], [206, \"PRS85006103\", 2023, 661.863], [207, \"PRS85006111\", 2022, 28.5], [208, \"PRS85006112\", 2022, 23.8], [209, \"PRS85006113\", 2023, 598.576], [210, \"PRS85006131\", 2022, 50.0], [211, \"PRS85006132\", 2021, 52.1], [212, \"PRS85006133\", 2023, 615.547], [213, \"PRS85006141\", 2022, 37.7], [214, \"PRS85006142\", 2022, 33.8], [215, \"PRS85006143\", 2023, 605.957], [216, \"PRS85006151\", 2020, 35.9], [217, \"PRS85006152\", 2020, 44.4], [218, \"PRS85006153\", 2020, 553.86], [219, \"PRS85006161\", 2010, 22.2], [220, \"PRS85006162\", 2020, 25.8], [221, \"PRS85006163\", 2021, 552.424], [222, \"PRS85006171\", 2020, 12.2], [223, \"PRS85006172\", 2020, 18.3], [224, \"PRS85006173\", 2001, 558.606], [225, \"PRS88003011\", 2022, 25.2], [226, \"PRS88003012\", 2021, 25.9], [227, \"PRS88003013\", 2022, 527.033], [228, \"PRS88003021\", 2010, 6.4], [229, \"PRS88003022\", 2010, 7.8], [230, \"PRS88003023\", 1997, 517.74], [231, \"PRS88003031\", 2021, 28.3], [232, \"PRS88003032\", 2021, 27.9], [233, \"PRS88003033\", 2022, 519.928], [234, \"PRS88003041\", 2021, 46.0], [235, \"PRS88003042\", 2021, 35.3], [236, \"PRS88003043\", 2022, 572.811], [237, \"PRS88003051\", 2021, 72.3], [238, \"PRS88003052\", 2021, 67.6], [239, \"PRS88003053\", 2022, 680.595], [240, \"PRS88003061\", 2021, 50.8], [241, \"PRS88003062\", 2021, 52.7], [242, \"PRS88003063\", 2022, 661.729], [243, \"PRS88003081\", 2021, 106.4], [244, \"PRS88003082\", 2021, 91.8], [245, \"PRS88003083\", 2022, 707.319], [246, \"PRS88003091\", 2002, 20.8], [247, \"PRS88003092\", 2020, 25.0], [248, \"PRS88003093\", 2021, 556.65], [249, \"PRS88003101\", 2020, 42.2], [250, \"PRS88003102\", 2020, 48.6], [251, \"PRS88003103\", 2022, 636.33], [252, \"PRS88003111\", 2022, 26.0], [253, \"PRS88003112\", 2020, 21.3], [254, \"PRS88003113\", 2022, 577.584], [255, \"PRS88003121\", 2022, 59.4], [256, \"PRS88003122\", 2022, 47.0], [257, \"PRS88003123\", 2022, 549.891], [258, \"PRS88003131\", 2021, 54.6], [259, \"PRS88003132\", 2021, 52.7], [260, \"PRS88003133\", 2022, 617.366], [261, \"PRS88003141\", 2022, 37.7], [262, \"PRS88003142\", 2022, 33.3], [263, \"PRS88003143\", 2022, 594.047], [264, \"PRS88003151\", 2020, 35.2], [265, \"PRS88003152\", 2020, 43.6], [266, \"PRS88003153\", 2020, 554.418], [267, \"PRS88003161\", 2010, 27.2], [268, \"PRS88003162\", 2002, 25.7], [269, \"PRS88003163\", 2021, 553.249], [270, \"PRS88003171\", 2020, 15.2], [271, \"PRS88003172\", 2020, 14.1], [272, \"PRS88003173\", 2001, 558.625], [273, \"PRS88003181\", 2021, 186.0], [274, \"PRS88003182\", 2020, 323.9], [275, \"PRS88003183\", 2022, 877.438], [276, \"PRS88003191\", 2010, 153.0], [277, \"PRS88003192\", 2002, 282.8], [278, \"PRS88003193\", 2022, 765.817], [279, \"PRS88003201\", 2022, 36.1], [280, \"PRS88003202\", 2022, 28.9], [281, \"PRS88003203\", 2022, 568.533]];\n",
       "\n",
       "            // Define the dt_args\n",
       "            let dt_args = {\"order\": []};\n",
       "            dt_args[\"data\"] = data;\n",
       "\n",
       "            \n",
       "            new $.fn.dataTable(table, dt_args);\n",
       "        });\n",
       "    });\n",
       "</script>\n",
       "</div>\n"
      ],
      "text/plain": [
       "<IPython.core.display.HTML object>"
      ]
     },
     "metadata": {},
     "output_type": "display_data"
    }
   ],
   "source": [
    "series_year_sum = current.groupby([\"series_id\", 'year'])['value'].agg({'sum'}).rename(columns = {'sum':'yearly_sum'}).reset_index()\n",
    "\n",
    "series_max = series_year_sum.groupby(['series_id'])['yearly_sum'].agg({\"max\"}).rename(columns = {'max':'max_yearly_sum'}).reset_index()\n",
    "\n",
    "series_max_year = pd.merge(series_max, series_year_sum, left_on = ['series_id', 'max_yearly_sum'], right_on = ['series_id', 'yearly_sum'], how ='inner')\n",
    "show(series_max_year[['series_id', 'year', 'max_yearly_sum']])"
   ]
  },
  {
   "cell_type": "markdown",
   "id": "38ed6758",
   "metadata": {},
   "source": [
    "#### Using both dataframes from Part 1 and Part 2, generate a report that will provide the value for series_id = PRS30006032 and period = Q01 and the population for that given year (if available in the population dataset)\n",
    "\n"
   ]
  },
  {
   "cell_type": "code",
   "execution_count": 44,
   "id": "e336a97a",
   "metadata": {},
   "outputs": [
    {
     "data": {
      "text/html": [
       "<div class=\"itables\">\n",
       "<style>.itables table td {\n",
       "    text-overflow: ellipsis;\n",
       "    overflow: hidden;\n",
       "}\n",
       "\n",
       ".itables table th {\n",
       "    text-overflow: ellipsis;\n",
       "    overflow: hidden;\n",
       "}\n",
       "\n",
       ".itables thead input {\n",
       "    width: 100%;\n",
       "    padding: 3px;\n",
       "    box-sizing: border-box;\n",
       "}\n",
       "\n",
       ".itables tfoot input {\n",
       "    width: 100%;\n",
       "    padding: 3px;\n",
       "    box-sizing: border-box;\n",
       "}\n",
       "\n",
       ".itables { font-size: medium; }\n",
       "\n",
       ".itables select, .itables input {\n",
       "    color: inherit;\n",
       "}\n",
       "</style>\n",
       "<table id=\"itables_4b86ff55_8e25_49b5_8b4e_bca90f40ffc8\" class=\"display nowrap\" data-quarto-disable-processing=\"true\" style=\"table-layout:auto;width:auto;margin:auto;caption-side:bottom\">\n",
       "<thead>\n",
       "    <tr style=\"text-align: right;\">\n",
       "      <th></th>\n",
       "      <th>series_id</th>\n",
       "      <th>year</th>\n",
       "      <th>period</th>\n",
       "      <th>value</th>\n",
       "      <th>Population</th>\n",
       "    </tr>\n",
       "  </thead><tbody><tr><td>Loading... (need <a href=https://mwouts.github.io/itables/troubleshooting.html>help</a>?)</td></tr></tbody>\n",
       "\n",
       "</table>\n",
       "<link rel=\"stylesheet\" type=\"text/css\" href=\"https://cdn.datatables.net/1.13.1/css/jquery.dataTables.min.css\">\n",
       "<script type=\"module\">\n",
       "    // Import jquery and DataTable\n",
       "    import 'https://code.jquery.com/jquery-3.6.0.min.js';\n",
       "    import dt from 'https://cdn.datatables.net/1.12.1/js/jquery.dataTables.mjs';\n",
       "    dt($);\n",
       "\n",
       "    $(document).ready(function () {\n",
       "        document.querySelectorAll(\"#itables_4b86ff55_8e25_49b5_8b4e_bca90f40ffc8:not(.dataTable)\").forEach(table => {\n",
       "            // Define the table data\n",
       "            const data = [[18, \"PRS30006032\", 2013, \"Q01\", 0.8, 311536594.0], [19, \"PRS30006032\", 2014, \"Q01\", -0.1, 314107084.0], [20, \"PRS30006032\", 2015, \"Q01\", -1.6, 316515021.0], [21, \"PRS30006032\", 2016, \"Q01\", -1.4, 318558162.0], [22, \"PRS30006032\", 2017, \"Q01\", 0.7, 321004407.0], [23, \"PRS30006032\", 2018, \"Q01\", 0.4, 322903030.0], [24, \"PRS30006032\", 2019, \"Q01\", -2.3, 324697795.0], [25, \"PRS30006032\", 2020, \"Q01\", -7.0, 326569308.0], [26, \"PRS30006032\", 2021, \"Q01\", 1.3, 329725481.0], [0, \"PRS30006032\", 1995, \"Q01\", 0.0, NaN], [1, \"PRS30006032\", 1996, \"Q01\", -4.4, NaN], [2, \"PRS30006032\", 1997, \"Q01\", 2.7, NaN], [3, \"PRS30006032\", 1998, \"Q01\", 1.0, NaN], [4, \"PRS30006032\", 1999, \"Q01\", -4.1, NaN], [5, \"PRS30006032\", 2000, \"Q01\", 0.5, NaN], [6, \"PRS30006032\", 2001, \"Q01\", -6.5, NaN], [7, \"PRS30006032\", 2002, \"Q01\", -6.7, NaN], [8, \"PRS30006032\", 2003, \"Q01\", -5.6, NaN], [9, \"PRS30006032\", 2004, \"Q01\", 2.1, NaN], [10, \"PRS30006032\", 2005, \"Q01\", -0.6, NaN], [11, \"PRS30006032\", 2006, \"Q01\", 1.8, NaN], [12, \"PRS30006032\", 2007, \"Q01\", -0.7, NaN], [13, \"PRS30006032\", 2008, \"Q01\", -3.4, NaN], [14, \"PRS30006032\", 2009, \"Q01\", -21.0, NaN], [15, \"PRS30006032\", 2010, \"Q01\", 3.4, NaN], [16, \"PRS30006032\", 2011, \"Q01\", 1.7, NaN], [17, \"PRS30006032\", 2012, \"Q01\", 2.8, NaN], [27, \"PRS30006032\", 2022, \"Q01\", 5.7, NaN], [28, \"PRS30006032\", 2023, \"Q01\", 1.2, NaN]];\n",
       "\n",
       "            // Define the dt_args\n",
       "            let dt_args = {\"order\": []};\n",
       "            dt_args[\"data\"] = data;\n",
       "\n",
       "            \n",
       "            new $.fn.dataTable(table, dt_args);\n",
       "        });\n",
       "    });\n",
       "</script>\n",
       "</div>\n"
      ],
      "text/plain": [
       "<IPython.core.display.HTML object>"
      ]
     },
     "metadata": {},
     "output_type": "display_data"
    }
   ],
   "source": [
    "### Cleaning series_id\n",
    "current['series_id'] = current['series_id'].str.strip()\n",
    "current_id = current[(current['series_id']=='PRS30006032') & (current['period']=='Q01')]\n",
    "current_id = current_id[['series_id', 'year', 'period', 'value']]\n",
    "### Casting population year to int\n",
    "pop_short = population[['ID Year', 'Population']]\n",
    "current_id_with_pop = pd.merge(current_id, pop_short, left_on='year', right_on='ID Year', how='left').drop(columns = {\"ID Year\"})\n",
    "show(current_id_with_pop.sort_values('Population'))"
   ]
  },
  {
   "cell_type": "code",
   "execution_count": null,
   "id": "0068c6a7",
   "metadata": {},
   "outputs": [],
   "source": []
  }
 ],
 "metadata": {
  "kernelspec": {
   "display_name": "Python 3",
   "language": "python",
   "name": "python3"
  },
  "language_info": {
   "codemirror_mode": {
    "name": "ipython",
    "version": 3
   },
   "file_extension": ".py",
   "mimetype": "text/x-python",
   "name": "python",
   "nbconvert_exporter": "python",
   "pygments_lexer": "ipython3",
   "version": "3.8.8"
  }
 },
 "nbformat": 4,
 "nbformat_minor": 5
}
